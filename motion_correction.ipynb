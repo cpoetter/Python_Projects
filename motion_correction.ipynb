{
 "cells": [
  {
   "cell_type": "markdown",
   "metadata": {},
   "source": [
    "# Diffusion Image Alignment"
   ]
  },
  {
   "cell_type": "markdown",
   "metadata": {},
   "source": [
    "This Notebook takes two Diffusion weighted images as an input and alignes the second one to the first one. Additionally it also rotates the bvecs of the second image according to the performed rotation of the image itself."
   ]
  },
  {
   "cell_type": "code",
   "execution_count": 43,
   "metadata": {
    "collapsed": true
   },
   "outputs": [],
   "source": [
    "# Transforms Image 2 to Image 1, saves the reorientated Images 2\n",
    "path1 = \"/scratch/cpoetter/local_regression/\"\n",
    "nifti_name1 = \"dwi_ec_motion_corrected.nii.gz\"\n",
    "bvals_name1 = \"dwi_ec_motion_corrected_alligned.bval\"\n",
    "bvecs_name1 = \"dwi_ec_motion_corrected.bvec\"\n",
    "\n",
    "path2 = \"/scratch/cpoetter/100bzeros/11782/\"\n",
    "nifti_name2 = \"0011_01_dwi_mux3_pe0_allb0.nii.gz\"\n",
    "bvals_name2 = \"0011_01_dwi_mux3_pe0_allb0.bval\"\n",
    "bvecs_name2 = \"0011_01_dwi_mux3_pe0_allb0.bvec\"\n",
    "\n",
    "path_saving = \"/scratch/cpoetter/local_regression/\"\n",
    "nifti_name2_new = \"0011_01_dwi_mux3_pe0_allb0_reorientated.nii.gz\"\n",
    "bvecs_name2_new = \"0011_01_dwi_mux3_pe0_allb0_reorientated.bvec\""
   ]
  },
  {
   "cell_type": "code",
   "execution_count": 44,
   "metadata": {
    "collapsed": false
   },
   "outputs": [],
   "source": [
    "import nibabel as nib\n",
    "import nipy\n",
    "import numpy as np\n",
    "import matplotlib.pyplot as plt\n",
    "%matplotlib inline\n",
    "from dipy.viz import regtools\n",
    "import nipy.algorithms.registration\n",
    "import ip_utils\n",
    "from dipy.io import read_bvals_bvecs\n",
    "from dipy.core.gradients import gradient_table\n",
    "import multiprocessing\n",
    "import tempfile\n",
    "import os\n",
    "from utilities import *\n",
    "from dipy.align.imaffine import AffineMap\n",
    "from parallelization import *"
   ]
  },
  {
   "cell_type": "code",
   "execution_count": 45,
   "metadata": {
    "collapsed": true
   },
   "outputs": [],
   "source": [
    "# Loading nifti image, data, affine and gtabs\n",
    "def load_nifti_image(path, nifti_name, bvals_name, bvecs_name):\n",
    "    nifti_path = path + nifti_name\n",
    "    bvals_path = path + bvals_name\n",
    "    bvecs_path = path + bvecs_name\n",
    "\n",
    "    img = nib.load(nifti_path)\n",
    "    data = img.get_data()\n",
    "    affine = img.affine\n",
    "    header = img.header\n",
    "    \n",
    "    bvals, bvecs = read_bvals_bvecs(bvals_path, bvecs_path)\n",
    "    gtab = gradient_table(bvals, bvecs)\n",
    "    \n",
    "    print 'Image %s loaded' % nifti_name\n",
    "    return img, data, affine, header, gtab"
   ]
  },
  {
   "cell_type": "code",
   "execution_count": 46,
   "metadata": {
    "collapsed": true
   },
   "outputs": [],
   "source": [
    "def save_bvecs(bvecs, path, name):\n",
    "    with open(path + name, 'w') as fp:\n",
    "        fp.write(' '.join(['%0.4f' % bv for bv in np.squeeze(np.asarray(bvecs[:, 0]))]) + '\\n')\n",
    "        fp.write(' '.join(['%0.4f' % bv for bv in np.squeeze(np.asarray(bvecs[:, 1]))]) + '\\n')\n",
    "        fp.write(' '.join(['%0.4f' % bv for bv in np.squeeze(np.asarray(bvecs[:, 2]))]) + '\\n')\n",
    "    print 'bvecs %s successfully saved' % name"
   ]
  },
  {
   "cell_type": "code",
   "execution_count": 47,
   "metadata": {
    "collapsed": true
   },
   "outputs": [],
   "source": [
    "# Rotation of bvecs\n",
    "def reorient_bvecs(transforms, bvecs):\n",
    "    r = transforms.rotation\n",
    "    R = np.matrix([[1.,0,0], [0,np.cos(r[0]),np.sin(r[0])], [0,-np.sin(r[0]),np.cos(r[0])]])\n",
    "    R = R*np.matrix([[np.cos(r[1]),0,np.sin(r[1])], [0,1,0], [-np.sin(r[1]),0,np.cos(r[1])]])\n",
    "    R = R*np.matrix([[np.cos(r[2]),np.sin(r[2]),0], [-np.sin(r[2]),np.cos(r[2]),0], [0,0,1]])\n",
    "    R = np.linalg.inv(R)\n",
    "    bvecs = (R.T * np.matrix(bvecs).T).T\n",
    "    print \"bvecs rotated\"\n",
    "    return bvecs"
   ]
  },
  {
   "cell_type": "code",
   "execution_count": 48,
   "metadata": {
    "collapsed": true
   },
   "outputs": [],
   "source": [
    "def average_image(data, gtab, affine, header):\n",
    "    # If image is already 3 dimentional do not calculate the average\n",
    "    squeezed_data = data.squeeze()\n",
    "    if squeezed_data.ndim == 4:\n",
    "        data_average = np.mean(squeezed_data[...,gtab.b0s_mask], axis=3)       \n",
    "    else:\n",
    "        data_average = squeezed_data\n",
    "    \n",
    "    img_average = nib.Nifti1Image(data_average.astype(float), affine, header=header) \n",
    "    print \"Average image calculated\"\n",
    "    return img_average"
   ]
  },
  {
   "cell_type": "code",
   "execution_count": 49,
   "metadata": {
    "collapsed": false
   },
   "outputs": [],
   "source": [
    "def reorientate_image(img1, data1, gtab1, img2, data2, gtab2):\n",
    "    img1_average = average_image(data1, gtab1, img1.affine, img1.header)     \n",
    "    img2_average = average_image(data2, gtab2, img2.affine, img2.header)\n",
    "       \n",
    "    reg = nipy.algorithms.registration.HistogramRegistration(img1_average, img2_average, similarity='crl1', interp='tri')\n",
    "    T = reg.optimize('rigid')\n",
    "    \n",
    "    # check if 3D or 4D image\n",
    "    if data2.squeeze().ndim == 4:\n",
    "        img2_splitted = nib.four_to_three(img2)\n",
    "        n = data2.squeeze().shape[-1]\n",
    "    else: \n",
    "        img2_splitted = [img2]\n",
    "        n = 1\n",
    "    \n",
    "    p = parallelization(display=False)\n",
    "    image_list_rotated  = p.start(nipy.algorithms.registration.resample, n, img2_splitted, [T], reference=[img1_average], interp_order=[1])\n",
    "    \n",
    "    # resample loses header, thereofre add old header\n",
    "    for i in range(len(image_list_rotated)):\n",
    "        image_list_rotated[i] = nib.Nifti1Image(image_list_rotated[i].get_data(), image_list_rotated[i].affine, header=img2_splitted[i].header) \n",
    "    \n",
    "    img2_new = nib.funcs.concat_images(image_list_rotated)\n",
    "    \n",
    "    bvecs_rotated = reorient_bvecs(T, gtab2.bvecs)\n",
    "    \n",
    "    print \"Image 2 successfully reorientated\"\n",
    "    return img2_new, bvecs_rotated"
   ]
  },
  {
   "cell_type": "code",
   "execution_count": 50,
   "metadata": {
    "collapsed": false
   },
   "outputs": [
    {
     "name": "stdout",
     "output_type": "stream",
     "text": [
      "Image dwi_ec_motion_corrected.nii.gz loaded\n",
      "Image 0011_01_dwi_mux3_pe0_allb0.nii.gz loaded\n"
     ]
    }
   ],
   "source": [
    "img1, data1, affine1, header1, gtab1 = load_nifti_image(path1, nifti_name1, bvals_name1, bvecs_name1)\n",
    "img2, data2, affine2, header2, gtab2 = load_nifti_image(path2, nifti_name2, bvals_name2, bvecs_name2)"
   ]
  },
  {
   "cell_type": "code",
   "execution_count": 51,
   "metadata": {
    "collapsed": false
   },
   "outputs": [
    {
     "name": "stdout",
     "output_type": "stream",
     "text": [
      "Average image calculated\n",
      "Average image calculated\n",
      "Initial guess...\n",
      "translation : [ 0.  0.  0.]\n",
      "rotation    : [ 0.  0.  0.]\n",
      "\n",
      "Optimizing using fmin_powell\n",
      "translation : [-1.618034  1.        1.      ]\n",
      "rotation    : [ 0.00381966  0.01       -0.04236068]\n",
      "\n",
      "crl1 = 0.594699468226\n",
      "\n",
      "translation : [-1.5483048  -1.26802381  1.381966  ]\n",
      "rotation    : [ 0.04821611  0.03618034 -0.07361105]\n",
      "\n",
      "crl1 = 0.639812776412\n",
      "\n",
      "translation : [-1.7447585  -0.26802381  1.763932  ]\n",
      "rotation    : [ 0.05821611  0.04618034 -0.06361105]\n",
      "\n",
      "crl1 = 0.655306822785\n",
      "\n",
      "translation : [-2.46649332  0.25984021  1.80637842]\n",
      "rotation    : [ 0.05731441  0.05527864 -0.05834478]\n",
      "\n",
      "crl1 = 0.660641884974\n",
      "\n",
      "Optimization terminated successfully.\n",
      "         Current function value: -0.660642\n",
      "         Iterations: 4\n",
      "         Function evaluations: 155\n",
      "bvecs rotated\n",
      "Image 2 successfully reorientated\n"
     ]
    }
   ],
   "source": [
    "img2_new, bvecs_rotated = reorientate_image(img1, data1, gtab1, img2, data2, gtab2)"
   ]
  },
  {
   "cell_type": "code",
   "execution_count": 52,
   "metadata": {
    "collapsed": false
   },
   "outputs": [
    {
     "name": "stdout",
     "output_type": "stream",
     "text": [
      "bvecs 0011_01_dwi_mux3_pe0_allb0_reorientated.bvec successfully saved\n",
      "Reorientated image 0011_01_dwi_mux3_pe0_allb0_reorientated.nii.gz saved\n"
     ]
    }
   ],
   "source": [
    "save_bvecs(bvecs_rotated, path_saving, bvecs_name2_new)\n",
    "\n",
    "image2_save = nib.Nifti1Image(img2_new.get_data(), img2_new.affine)\n",
    "nib.save(image2_save,  path_saving + nifti_name2_new)\n",
    "print \"Reorientated image %s saved\" % nifti_name2_new"
   ]
  }
 ],
 "metadata": {
  "kernelspec": {
   "display_name": "Python 2",
   "language": "python",
   "name": "python2"
  },
  "language_info": {
   "codemirror_mode": {
    "name": "ipython",
    "version": 2
   },
   "file_extension": ".py",
   "mimetype": "text/x-python",
   "name": "python",
   "nbconvert_exporter": "python",
   "pygments_lexer": "ipython2",
   "version": "2.7.11"
  }
 },
 "nbformat": 4,
 "nbformat_minor": 0
}
