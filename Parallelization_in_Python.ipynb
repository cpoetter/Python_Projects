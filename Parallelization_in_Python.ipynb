{
 "cells": [
  {
   "cell_type": "markdown",
   "metadata": {},
   "source": [
    "# Easy Parallelization Class in Python "
   ]
  },
  {
   "cell_type": "markdown",
   "metadata": {},
   "source": [
    "This small iPython Notebook should demonstrate my Python Parallelization Class."
   ]
  },
  {
   "cell_type": "markdown",
   "metadata": {},
   "source": [
    "First we import some neccessary packages to create an example task to be solved."
   ]
  },
  {
   "cell_type": "code",
   "execution_count": 1,
   "metadata": {
    "collapsed": true
   },
   "outputs": [],
   "source": [
    "import numpy as np\n",
    "import time"
   ]
  },
  {
   "cell_type": "markdown",
   "metadata": {},
   "source": [
    "We want to solve 500 different equations of the type Ax=b. Whereby A has a shape of [500, 500] and b has [500,]."
   ]
  },
  {
   "cell_type": "code",
   "execution_count": 2,
   "metadata": {
    "collapsed": true
   },
   "outputs": [],
   "source": [
    "size = 350\n",
    "number_voxels = 500"
   ]
  },
  {
   "cell_type": "markdown",
   "metadata": {},
   "source": [
    "To do so we first create arrays of the size [500, 500, 250] and [500, 250]."
   ]
  },
  {
   "cell_type": "code",
   "execution_count": 3,
   "metadata": {
    "collapsed": true
   },
   "outputs": [],
   "source": [
    "A = np.random.rand(size, size, number_voxels)\n",
    "b = np.random.rand(size, number_voxels)"
   ]
  },
  {
   "cell_type": "markdown",
   "metadata": {},
   "source": [
    "And split them up afterwards into a list of 250 elements each."
   ]
  },
  {
   "cell_type": "code",
   "execution_count": 4,
   "metadata": {
    "collapsed": true
   },
   "outputs": [],
   "source": [
    "As = np.dsplit(A, A.shape[-1])\n",
    "bs = np.hsplit(b, b.shape[-1])"
   ]
  },
  {
   "cell_type": "markdown",
   "metadata": {},
   "source": [
    "Then we start apply the numpy solving in linear order and stop the time needed."
   ]
  },
  {
   "cell_type": "code",
   "execution_count": 11,
   "metadata": {
    "collapsed": false
   },
   "outputs": [
    {
     "name": "stdout",
     "output_type": "stream",
     "text": [
      "Time needed: 12.1665 sec\n"
     ]
    }
   ],
   "source": [
    "timer_start = time.time()\n",
    "\n",
    "x_sequence = []\n",
    "for i in range(number_voxels):\n",
    "    x_sequence.append(np.linalg.solve(np.squeeze(As[i]), np.squeeze(bs[i])))\n",
    "\n",
    "print \"Time needed: %.2f sec\" % (time.time() - timer_start)"
   ]
  },
  {
   "cell_type": "markdown",
   "metadata": {},
   "source": [
    "In order to use the parallelized solution we first have to import the parallelization class."
   ]
  },
  {
   "cell_type": "code",
   "execution_count": 6,
   "metadata": {
    "collapsed": false
   },
   "outputs": [],
   "source": [
    "from parallelization import *"
   ]
  },
  {
   "cell_type": "markdown",
   "metadata": {},
   "source": [
    "Then we have to write a function that we want to parallize. The function must be implemented for one step only. For example one voxel if we parallalize by voxel or one equation if we parallalize by equation."
   ]
  },
  {
   "cell_type": "code",
   "execution_count": 12,
   "metadata": {
    "collapsed": true
   },
   "outputs": [],
   "source": [
    "def solve_equation(A, b):\n",
    "    x = np.linalg.solve(np.squeeze(A), np.squeeze(b))\n",
    "    return x"
   ]
  },
  {
   "cell_type": "markdown",
   "metadata": {},
   "source": [
    "Next we create an instance of the parallalization class. This class has different parameter like display which shows the current progress of the calculation in percent, or maximum_number_of_cores, which can specify the number of CPUs to parallalize on. Default is to parallalize on all available."
   ]
  },
  {
   "cell_type": "code",
   "execution_count": 8,
   "metadata": {
    "collapsed": true
   },
   "outputs": [],
   "source": [
    "p = parallelization(display=False)"
   ]
  },
  {
   "cell_type": "markdown",
   "metadata": {},
   "source": [
    "Now we just need to call the start() function of the parallization object on give it the function to run on each CPU, as well as the number of parallization steps and every parameter the parallalized function needs."
   ]
  },
  {
   "cell_type": "code",
   "execution_count": 13,
   "metadata": {
    "collapsed": false
   },
   "outputs": [
    {
     "name": "stdout",
     "output_type": "stream",
     "text": [
      "Time needed: 2.0394 sec\n"
     ]
    }
   ],
   "source": [
    "timer_start = time.time()\n",
    "x_parallel  = p.start(solve_equation, number_voxels, As, bs)\n",
    "print \"Time needed: %.2f sec\" % (time.time() - timer_start)"
   ]
  },
  {
   "cell_type": "markdown",
   "metadata": {},
   "source": [
    "The returned value will be a list of length n."
   ]
  },
  {
   "cell_type": "markdown",
   "metadata": {},
   "source": [
    "Now we compare both results of the linear and parallalized calculation and see that they are equal."
   ]
  },
  {
   "cell_type": "code",
   "execution_count": 10,
   "metadata": {
    "collapsed": false
   },
   "outputs": [
    {
     "data": {
      "text/plain": [
       "True"
      ]
     },
     "execution_count": 10,
     "metadata": {},
     "output_type": "execute_result"
    }
   ],
   "source": [
    "np.array_equal(x_sequence, x_parallel)"
   ]
  }
 ],
 "metadata": {
  "kernelspec": {
   "display_name": "Python 2",
   "language": "python",
   "name": "python2"
  },
  "language_info": {
   "codemirror_mode": {
    "name": "ipython",
    "version": 2
   },
   "file_extension": ".py",
   "mimetype": "text/x-python",
   "name": "python",
   "nbconvert_exporter": "python",
   "pygments_lexer": "ipython2",
   "version": "2.7.11"
  }
 },
 "nbformat": 4,
 "nbformat_minor": 0
}
