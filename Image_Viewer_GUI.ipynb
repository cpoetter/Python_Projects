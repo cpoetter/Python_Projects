{
 "cells": [
  {
   "cell_type": "markdown",
   "metadata": {},
   "source": [
    "# Interactive 2D Image Viewer for Numpy Arrays"
   ]
  },
  {
   "cell_type": "markdown",
   "metadata": {},
   "source": [
    "The interactive 2D Image Viewer is a small GUI which displays 16 bit Numpy arrays. After initiating an instance of the GUI class a spereate process is lunched to enable a fluent and uninterrupted user facing experienct, while simultaniously running heavy calculations in the main python file. The second process is every time in communication with the calling file over a queue. Images, text or commands can be pushed to the viewer.\n",
    "\n",
    "The Viewer itself can be described as interactive. The user can scroll back in the images history, change contrast and brightness, and start and stop autoviewing. \n",
    "\n",
    "To give you a better impression this notebook is a litte example of how to use my Image Viwer."
   ]
  },
  {
   "cell_type": "markdown",
   "metadata": {},
   "source": [
    "First we have to import packages to download sample brain datasets to display."
   ]
  },
  {
   "cell_type": "code",
   "execution_count": 1,
   "metadata": {
    "collapsed": true
   },
   "outputs": [],
   "source": [
    "import numpy as np\n",
    "from dipy.data import fetch_stanford_t1, read_stanford_t1\n",
    "import time"
   ]
  },
  {
   "cell_type": "markdown",
   "metadata": {},
   "source": [
    "Now we fetch a sample T1 brain image from dipy."
   ]
  },
  {
   "cell_type": "code",
   "execution_count": 2,
   "metadata": {
    "collapsed": false
   },
   "outputs": [],
   "source": [
    "fetch_stanford_t1()\n",
    "T1_image = read_stanford_t1()\n",
    "T1_data = T1_image.get_data()"
   ]
  },
  {
   "cell_type": "markdown",
   "metadata": {},
   "source": [
    "Next we import my GUI class."
   ]
  },
  {
   "cell_type": "code",
   "execution_count": 3,
   "metadata": {
    "collapsed": true
   },
   "outputs": [],
   "source": [
    "from GUI import *"
   ]
  },
  {
   "cell_type": "markdown",
   "metadata": {},
   "source": [
    "And create an instance of the viewer. If the size of the viwer is not specified, then it will be displayed full screen, otherwise it is quadratic with the specified size."
   ]
  },
  {
   "cell_type": "code",
   "execution_count": 4,
   "metadata": {
    "collapsed": false
   },
   "outputs": [],
   "source": [
    "viewer = create_GUI(500)"
   ]
  },
  {
   "cell_type": "markdown",
   "metadata": {},
   "source": [
    "Now we iterate over the slices and push each of them to the viwer. The 0.5 second delay simulates time needed to calculate these images. "
   ]
  },
  {
   "cell_type": "code",
   "execution_count": 5,
   "metadata": {
    "collapsed": false
   },
   "outputs": [],
   "source": [
    "for i in range(T1_data.shape[-1]):\n",
    "    time.sleep(0.5)\n",
    "    img = T1_data[..., i]\n",
    "    push_image(viewer, img, [\"Slice Nr. \" + str(i), \"GUI Example\"])"
   ]
  },
  {
   "cell_type": "markdown",
   "metadata": {},
   "source": [
    "Finally we just have to close the viewer and join all parallalized processes and threads together."
   ]
  },
  {
   "cell_type": "code",
   "execution_count": 6,
   "metadata": {
    "collapsed": true
   },
   "outputs": [],
   "source": [
    "close_GUI(viewer)"
   ]
  },
  {
   "cell_type": "markdown",
   "metadata": {},
   "source": [
    "A video of this notebook can be found here:"
   ]
  }
 ],
 "metadata": {
  "kernelspec": {
   "display_name": "Python 2",
   "language": "python",
   "name": "python2"
  },
  "language_info": {
   "codemirror_mode": {
    "name": "ipython",
    "version": 2
   },
   "file_extension": ".py",
   "mimetype": "text/x-python",
   "name": "python",
   "nbconvert_exporter": "python",
   "pygments_lexer": "ipython2",
   "version": "2.7.11"
  }
 },
 "nbformat": 4,
 "nbformat_minor": 0
}
